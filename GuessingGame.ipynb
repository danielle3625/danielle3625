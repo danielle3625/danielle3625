{
  "cells": [
    {
      "cell_type": "markdown",
      "metadata": {
        "id": "view-in-github",
        "colab_type": "text"
      },
      "source": [
        "<a href=\"https://colab.research.google.com/github/danielle3625/danielle3625/blob/main/GuessingGame.ipynb\" target=\"_parent\"><img src=\"https://colab.research.google.com/assets/colab-badge.svg\" alt=\"Open In Colab\"/></a>"
      ]
    },
    {
      "cell_type": "code",
      "execution_count": null,
      "metadata": {
        "id": "sX7ZuQ7tYI2Q"
      },
      "outputs": [],
      "source": [
        "import random\n",
        "my_num = random.randint(1,100)"
      ]
    },
    {
      "cell_type": "code",
      "execution_count": null,
      "metadata": {
        "id": "K7jze_mtYPuF"
      },
      "outputs": [],
      "source": [
        "print(\"Welcome to Guessing Game! \\nI'm thinking of a number between 1 and 100 \\nIf your guess is within 10 of my number, I will tell you: Warm!\")\n",
        "print('If your guess is more than 10 away from my number, I will tell you: Cold!')\n",
        "print('If your guess is closer than your previous guess, I will tell you: Warmer!')\n",
        "print('If you went the wrong direction, I will tell you: Colder!')\n",
        "print(\"Let's Play!!\")"
      ]
    },
    {
      "cell_type": "code",
      "execution_count": 19,
      "metadata": {
        "id": "yHodS9ezdoVO"
      },
      "outputs": [],
      "source": [
        "guess_list = [0]"
      ]
    },
    {
      "cell_type": "code",
      "execution_count": null,
      "metadata": {
        "id": "ukP2bTnNeMtd"
      },
      "outputs": [],
      "source": [
        "while True:\n",
        "  guess = int(input(\"Enter your guess: \"))\n",
        " \n",
        "  if guess < 1 or guess > 100:\n",
        "    print(\"Your guess is out of bounds! Choose a number between 1 and 100\")\n",
        "    continue\n",
        " \n",
        "  if guess == my_num:\n",
        "    print(f\"You win! You used {len(guess_list)} tries!\")\n",
        "    break\n",
        "  guess_list.append(guess)\n",
        " \n",
        "  if guess_list[-2]:\n",
        "    if abs(my_num - guess) <= abs(my_num - guess_list[-2]):\n",
        "      print(\"Warmer!\")\n",
        "    else:\n",
        "      print(\"Colder!\")\n",
        "\n",
        "  else: \n",
        "    if abs(my_num - guess) <= 10:\n",
        "      print(\"Warm!\")\n",
        "    else:\n",
        "      print(\"Cold!\")  "
      ]
    },
    {
      "cell_type": "code",
      "source": [
        ""
      ],
      "metadata": {
        "id": "p7XEyJnSNPTY"
      },
      "execution_count": null,
      "outputs": []
    }
  ],
  "metadata": {
    "colab": {
      "collapsed_sections": [],
      "name": "GuessingGame.ipynb",
      "provenance": [],
      "authorship_tag": "ABX9TyMY+kpIvOh2Ss83esplzyv+",
      "include_colab_link": true
    },
    "kernelspec": {
      "display_name": "Python 3",
      "name": "python3"
    },
    "language_info": {
      "name": "python"
    }
  },
  "nbformat": 4,
  "nbformat_minor": 0
}